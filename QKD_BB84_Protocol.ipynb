{
  "nbformat": 4,
  "nbformat_minor": 0,
  "metadata": {
    "colab": {
      "provenance": []
    },
    "kernelspec": {
      "name": "python3",
      "display_name": "Python 3"
    },
    "language_info": {
      "name": "python"
    }
  },
  "cells": [
    {
      "cell_type": "code",
      "execution_count": null,
      "metadata": {
        "colab": {
          "base_uri": "https://localhost:8080/"
        },
        "id": "JBDHnGWjYGum",
        "outputId": "bff45f9a-4ca7-43c5-9dcd-5b29c9d50562"
      },
      "outputs": [
        {
          "output_type": "stream",
          "name": "stdout",
          "text": [
            "Collecting qiskit\n",
            "  Downloading qiskit-1.2.4-cp38-abi3-manylinux_2_17_x86_64.manylinux2014_x86_64.whl.metadata (12 kB)\n",
            "Collecting rustworkx>=0.15.0 (from qiskit)\n",
            "  Downloading rustworkx-0.15.1-cp38-abi3-manylinux_2_17_x86_64.manylinux2014_x86_64.whl.metadata (9.9 kB)\n",
            "Requirement already satisfied: numpy<3,>=1.17 in /usr/local/lib/python3.10/dist-packages (from qiskit) (1.26.4)\n",
            "Requirement already satisfied: scipy>=1.5 in /usr/local/lib/python3.10/dist-packages (from qiskit) (1.13.1)\n",
            "Requirement already satisfied: sympy>=1.3 in /usr/local/lib/python3.10/dist-packages (from qiskit) (1.13.1)\n",
            "Collecting dill>=0.3 (from qiskit)\n",
            "  Downloading dill-0.3.9-py3-none-any.whl.metadata (10 kB)\n",
            "Requirement already satisfied: python-dateutil>=2.8.0 in /usr/local/lib/python3.10/dist-packages (from qiskit) (2.8.2)\n",
            "Collecting stevedore>=3.0.0 (from qiskit)\n",
            "  Downloading stevedore-5.3.0-py3-none-any.whl.metadata (2.3 kB)\n",
            "Requirement already satisfied: typing-extensions in /usr/local/lib/python3.10/dist-packages (from qiskit) (4.12.2)\n",
            "Collecting symengine<0.14,>=0.11 (from qiskit)\n",
            "  Downloading symengine-0.13.0-cp310-cp310-manylinux_2_17_x86_64.manylinux2014_x86_64.whl.metadata (1.2 kB)\n",
            "Requirement already satisfied: six>=1.5 in /usr/local/lib/python3.10/dist-packages (from python-dateutil>=2.8.0->qiskit) (1.16.0)\n",
            "Collecting pbr>=2.0.0 (from stevedore>=3.0.0->qiskit)\n",
            "  Downloading pbr-6.1.0-py2.py3-none-any.whl.metadata (3.4 kB)\n",
            "Requirement already satisfied: mpmath<1.4,>=1.1.0 in /usr/local/lib/python3.10/dist-packages (from sympy>=1.3->qiskit) (1.3.0)\n",
            "Downloading qiskit-1.2.4-cp38-abi3-manylinux_2_17_x86_64.manylinux2014_x86_64.whl (4.8 MB)\n",
            "\u001b[2K   \u001b[90m━━━━━━━━━━━━━━━━━━━━━━━━━━━━━━━━━━━━━━━━\u001b[0m \u001b[32m4.8/4.8 MB\u001b[0m \u001b[31m22.9 MB/s\u001b[0m eta \u001b[36m0:00:00\u001b[0m\n",
            "\u001b[?25hDownloading dill-0.3.9-py3-none-any.whl (119 kB)\n",
            "\u001b[2K   \u001b[90m━━━━━━━━━━━━━━━━━━━━━━━━━━━━━━━━━━━━━━━━\u001b[0m \u001b[32m119.4/119.4 kB\u001b[0m \u001b[31m5.4 MB/s\u001b[0m eta \u001b[36m0:00:00\u001b[0m\n",
            "\u001b[?25hDownloading rustworkx-0.15.1-cp38-abi3-manylinux_2_17_x86_64.manylinux2014_x86_64.whl (2.0 MB)\n",
            "\u001b[2K   \u001b[90m━━━━━━━━━━━━━━━━━━━━━━━━━━━━━━━━━━━━━━━━\u001b[0m \u001b[32m2.0/2.0 MB\u001b[0m \u001b[31m36.1 MB/s\u001b[0m eta \u001b[36m0:00:00\u001b[0m\n",
            "\u001b[?25hDownloading stevedore-5.3.0-py3-none-any.whl (49 kB)\n",
            "\u001b[2K   \u001b[90m━━━━━━━━━━━━━━━━━━━━━━━━━━━━━━━━━━━━━━━━\u001b[0m \u001b[32m49.7/49.7 kB\u001b[0m \u001b[31m2.0 MB/s\u001b[0m eta \u001b[36m0:00:00\u001b[0m\n",
            "\u001b[?25hDownloading symengine-0.13.0-cp310-cp310-manylinux_2_17_x86_64.manylinux2014_x86_64.whl (49.7 MB)\n",
            "\u001b[2K   \u001b[90m━━━━━━━━━━━━━━━━━━━━━━━━━━━━━━━━━━━━━━━━\u001b[0m \u001b[32m49.7/49.7 MB\u001b[0m \u001b[31m18.7 MB/s\u001b[0m eta \u001b[36m0:00:00\u001b[0m\n",
            "\u001b[?25hDownloading pbr-6.1.0-py2.py3-none-any.whl (108 kB)\n",
            "\u001b[2K   \u001b[90m━━━━━━━━━━━━━━━━━━━━━━━━━━━━━━━━━━━━━━━━\u001b[0m \u001b[32m108.5/108.5 kB\u001b[0m \u001b[31m5.2 MB/s\u001b[0m eta \u001b[36m0:00:00\u001b[0m\n",
            "\u001b[?25hInstalling collected packages: symengine, rustworkx, pbr, dill, stevedore, qiskit\n",
            "Successfully installed dill-0.3.9 pbr-6.1.0 qiskit-1.2.4 rustworkx-0.15.1 stevedore-5.3.0 symengine-0.13.0\n"
          ]
        }
      ],
      "source": [
        "pip install qiskit"
      ]
    },
    {
      "cell_type": "code",
      "source": [
        "!pip install qiskit-aer"
      ],
      "metadata": {
        "colab": {
          "base_uri": "https://localhost:8080/"
        },
        "id": "ItIhVpQThLbJ",
        "outputId": "82cf11f4-82a0-4e63-8f7f-16c019e4442a"
      },
      "execution_count": null,
      "outputs": [
        {
          "output_type": "stream",
          "name": "stdout",
          "text": [
            "Collecting qiskit-aer\n",
            "  Downloading qiskit_aer-0.15.1-cp310-cp310-manylinux_2_17_x86_64.manylinux2014_x86_64.whl.metadata (8.0 kB)\n",
            "Requirement already satisfied: qiskit>=1.1.0 in /usr/local/lib/python3.10/dist-packages (from qiskit-aer) (1.2.4)\n",
            "Requirement already satisfied: numpy>=1.16.3 in /usr/local/lib/python3.10/dist-packages (from qiskit-aer) (1.26.4)\n",
            "Requirement already satisfied: scipy>=1.0 in /usr/local/lib/python3.10/dist-packages (from qiskit-aer) (1.13.1)\n",
            "Requirement already satisfied: psutil>=5 in /usr/local/lib/python3.10/dist-packages (from qiskit-aer) (5.9.5)\n",
            "Requirement already satisfied: rustworkx>=0.15.0 in /usr/local/lib/python3.10/dist-packages (from qiskit>=1.1.0->qiskit-aer) (0.15.1)\n",
            "Requirement already satisfied: sympy>=1.3 in /usr/local/lib/python3.10/dist-packages (from qiskit>=1.1.0->qiskit-aer) (1.13.1)\n",
            "Requirement already satisfied: dill>=0.3 in /usr/local/lib/python3.10/dist-packages (from qiskit>=1.1.0->qiskit-aer) (0.3.9)\n",
            "Requirement already satisfied: python-dateutil>=2.8.0 in /usr/local/lib/python3.10/dist-packages (from qiskit>=1.1.0->qiskit-aer) (2.8.2)\n",
            "Requirement already satisfied: stevedore>=3.0.0 in /usr/local/lib/python3.10/dist-packages (from qiskit>=1.1.0->qiskit-aer) (5.3.0)\n",
            "Requirement already satisfied: typing-extensions in /usr/local/lib/python3.10/dist-packages (from qiskit>=1.1.0->qiskit-aer) (4.12.2)\n",
            "Requirement already satisfied: symengine<0.14,>=0.11 in /usr/local/lib/python3.10/dist-packages (from qiskit>=1.1.0->qiskit-aer) (0.13.0)\n",
            "Requirement already satisfied: six>=1.5 in /usr/local/lib/python3.10/dist-packages (from python-dateutil>=2.8.0->qiskit>=1.1.0->qiskit-aer) (1.16.0)\n",
            "Requirement already satisfied: pbr>=2.0.0 in /usr/local/lib/python3.10/dist-packages (from stevedore>=3.0.0->qiskit>=1.1.0->qiskit-aer) (6.1.0)\n",
            "Requirement already satisfied: mpmath<1.4,>=1.1.0 in /usr/local/lib/python3.10/dist-packages (from sympy>=1.3->qiskit>=1.1.0->qiskit-aer) (1.3.0)\n",
            "Downloading qiskit_aer-0.15.1-cp310-cp310-manylinux_2_17_x86_64.manylinux2014_x86_64.whl (12.3 MB)\n",
            "\u001b[2K   \u001b[90m━━━━━━━━━━━━━━━━━━━━━━━━━━━━━━━━━━━━━━━━\u001b[0m \u001b[32m12.3/12.3 MB\u001b[0m \u001b[31m47.8 MB/s\u001b[0m eta \u001b[36m0:00:00\u001b[0m\n",
            "\u001b[?25hInstalling collected packages: qiskit-aer\n",
            "Successfully installed qiskit-aer-0.15.1\n"
          ]
        }
      ]
    },
    {
      "cell_type": "code",
      "source": [
        "from qiskit import QuantumCircuit\n",
        "from qiskit_aer import AerSimulator\n",
        "from qiskit.visualization import plot_histogram\n",
        "import random"
      ],
      "metadata": {
        "id": "0QXtcQ76hBLL"
      },
      "execution_count": null,
      "outputs": []
    },
    {
      "cell_type": "code",
      "source": [
        "n = 10\n",
        "alice_bits = [random.randint(0, 1) for _ in range(n)]\n",
        "alice_bases = [random.randint(0, 1) for _ in range(n)]"
      ],
      "metadata": {
        "id": "dHbfR91jnkwu"
      },
      "execution_count": null,
      "outputs": []
    },
    {
      "cell_type": "code",
      "source": [
        "qc = QuantumCircuit(n, n)"
      ],
      "metadata": {
        "id": "HftSNA-EnsD8"
      },
      "execution_count": null,
      "outputs": []
    },
    {
      "cell_type": "code",
      "source": [
        "for i in range(n):\n",
        "    if alice_bits[i] == 1:\n",
        "        qc.x(i)  # Apply X if Alice's bit is 1\n",
        "    if alice_bases[i] == 1:\n",
        "        qc.h(i)  # Apply Hadamard if Alice's basis is 1"
      ],
      "metadata": {
        "id": "EJfmCBvjn5Qh"
      },
      "execution_count": null,
      "outputs": []
    },
    {
      "cell_type": "code",
      "source": [
        "qc.draw()"
      ],
      "metadata": {
        "colab": {
          "base_uri": "https://localhost:8080/",
          "height": 371
        },
        "id": "YTDa5XkfAv8i",
        "outputId": "d3169f11-8341-4323-d48d-6f2207a46e74"
      },
      "execution_count": null,
      "outputs": [
        {
          "output_type": "execute_result",
          "data": {
            "text/plain": [
              "      ┌───┐\n",
              " q_0: ┤ X ├\n",
              "      └───┘\n",
              " q_1: ─────\n",
              "      ┌───┐\n",
              " q_2: ┤ H ├\n",
              "      ├───┤\n",
              " q_3: ┤ H ├\n",
              "      ├───┤\n",
              " q_4: ┤ H ├\n",
              "      ├───┤\n",
              " q_5: ┤ X ├\n",
              "      ├───┤\n",
              " q_6: ┤ H ├\n",
              "      └───┘\n",
              " q_7: ─────\n",
              "      ┌───┐\n",
              " q_8: ┤ X ├\n",
              "      ├───┤\n",
              " q_9: ┤ H ├\n",
              "      └───┘\n",
              "c: 10/═════\n",
              "           "
            ],
            "text/html": [
              "<pre style=\"word-wrap: normal;white-space: pre;background: #fff0;line-height: 1.1;font-family: &quot;Courier New&quot;,Courier,monospace\">      ┌───┐\n",
              " q_0: ┤ X ├\n",
              "      └───┘\n",
              " q_1: ─────\n",
              "      ┌───┐\n",
              " q_2: ┤ H ├\n",
              "      ├───┤\n",
              " q_3: ┤ H ├\n",
              "      ├───┤\n",
              " q_4: ┤ H ├\n",
              "      ├───┤\n",
              " q_5: ┤ X ├\n",
              "      ├───┤\n",
              " q_6: ┤ H ├\n",
              "      └───┘\n",
              " q_7: ─────\n",
              "      ┌───┐\n",
              " q_8: ┤ X ├\n",
              "      ├───┤\n",
              " q_9: ┤ H ├\n",
              "      └───┘\n",
              "c: 10/═════\n",
              "           </pre>"
            ]
          },
          "metadata": {},
          "execution_count": 7
        }
      ]
    },
    {
      "cell_type": "code",
      "source": [
        "bob_bases = [random.randint(0, 1) for _ in range(n)]"
      ],
      "metadata": {
        "id": "HkwaciR8n_Tl"
      },
      "execution_count": null,
      "outputs": []
    },
    {
      "cell_type": "code",
      "source": [
        "for i in range(n):\n",
        "    if bob_bases[i] == 1:\n",
        "        qc.h(i)  # Apply Hadamard if Bob's basis is Hadamard\n",
        "    qc.measure(i, i)"
      ],
      "metadata": {
        "id": "XDhysZ3YoC1M"
      },
      "execution_count": null,
      "outputs": []
    },
    {
      "cell_type": "code",
      "source": [
        "qc.draw()"
      ],
      "metadata": {
        "colab": {
          "base_uri": "https://localhost:8080/",
          "height": 371
        },
        "id": "Ql3FFEZmBArD",
        "outputId": "430bbac1-0d62-4ffc-d08c-c658b20dd717"
      },
      "execution_count": null,
      "outputs": [
        {
          "output_type": "execute_result",
          "data": {
            "text/plain": [
              "      ┌───┐     ┌─┐                        \n",
              " q_0: ┤ X ├─────┤M├────────────────────────\n",
              "      ├───┤     └╥┘┌─┐                     \n",
              " q_1: ┤ H ├──────╫─┤M├─────────────────────\n",
              "      ├───┤      ║ └╥┘┌─┐                  \n",
              " q_2: ┤ H ├──────╫──╫─┤M├──────────────────\n",
              "      ├───┤      ║  ║ └╥┘┌─┐               \n",
              " q_3: ┤ H ├──────╫──╫──╫─┤M├───────────────\n",
              "      ├───┤      ║  ║  ║ └╥┘┌─┐            \n",
              " q_4: ┤ H ├──────╫──╫──╫──╫─┤M├────────────\n",
              "      ├───┤┌───┐ ║  ║  ║  ║ └╥┘      ┌─┐   \n",
              " q_5: ┤ X ├┤ H ├─╫──╫──╫──╫──╫───────┤M├───\n",
              "      ├───┤├───┤ ║  ║  ║  ║  ║       └╥┘┌─┐\n",
              " q_6: ┤ H ├┤ H ├─╫──╫──╫──╫──╫────────╫─┤M├\n",
              "      └───┘└┬─┬┘ ║  ║  ║  ║  ║        ║ └╥┘\n",
              " q_7: ──────┤M├──╫──╫──╫──╫──╫────────╫──╫─\n",
              "      ┌───┐ └╥┘  ║  ║  ║  ║  ║ ┌─┐    ║  ║ \n",
              " q_8: ┤ X ├──╫───╫──╫──╫──╫──╫─┤M├────╫──╫─\n",
              "      ├───┤  ║   ║  ║  ║  ║  ║ └╥┘┌─┐ ║  ║ \n",
              " q_9: ┤ H ├──╫───╫──╫──╫──╫──╫──╫─┤M├─╫──╫─\n",
              "      └───┘  ║   ║  ║  ║  ║  ║  ║ └╥┘ ║  ║ \n",
              "c: 10/═══════╩═══╩══╩══╩══╩══╩══╩══╩══╩══╩═\n",
              "             7   0  1  2  3  4  8  9  5  6 "
            ],
            "text/html": [
              "<pre style=\"word-wrap: normal;white-space: pre;background: #fff0;line-height: 1.1;font-family: &quot;Courier New&quot;,Courier,monospace\">      ┌───┐     ┌─┐                        \n",
              " q_0: ┤ X ├─────┤M├────────────────────────\n",
              "      ├───┤     └╥┘┌─┐                     \n",
              " q_1: ┤ H ├──────╫─┤M├─────────────────────\n",
              "      ├───┤      ║ └╥┘┌─┐                  \n",
              " q_2: ┤ H ├──────╫──╫─┤M├──────────────────\n",
              "      ├───┤      ║  ║ └╥┘┌─┐               \n",
              " q_3: ┤ H ├──────╫──╫──╫─┤M├───────────────\n",
              "      ├───┤      ║  ║  ║ └╥┘┌─┐            \n",
              " q_4: ┤ H ├──────╫──╫──╫──╫─┤M├────────────\n",
              "      ├───┤┌───┐ ║  ║  ║  ║ └╥┘      ┌─┐   \n",
              " q_5: ┤ X ├┤ H ├─╫──╫──╫──╫──╫───────┤M├───\n",
              "      ├───┤├───┤ ║  ║  ║  ║  ║       └╥┘┌─┐\n",
              " q_6: ┤ H ├┤ H ├─╫──╫──╫──╫──╫────────╫─┤M├\n",
              "      └───┘└┬─┬┘ ║  ║  ║  ║  ║        ║ └╥┘\n",
              " q_7: ──────┤M├──╫──╫──╫──╫──╫────────╫──╫─\n",
              "      ┌───┐ └╥┘  ║  ║  ║  ║  ║ ┌─┐    ║  ║ \n",
              " q_8: ┤ X ├──╫───╫──╫──╫──╫──╫─┤M├────╫──╫─\n",
              "      ├───┤  ║   ║  ║  ║  ║  ║ └╥┘┌─┐ ║  ║ \n",
              " q_9: ┤ H ├──╫───╫──╫──╫──╫──╫──╫─┤M├─╫──╫─\n",
              "      └───┘  ║   ║  ║  ║  ║  ║  ║ └╥┘ ║  ║ \n",
              "c: 10/═══════╩═══╩══╩══╩══╩══╩══╩══╩══╩══╩═\n",
              "             7   0  1  2  3  4  8  9  5  6 </pre>"
            ]
          },
          "metadata": {},
          "execution_count": 10
        }
      ]
    },
    {
      "cell_type": "code",
      "source": [
        "simulator = AerSimulator()\n",
        "result = simulator.run(qc, shots=1).result()\n",
        "bob_measurements = list(result.get_counts(qc).keys())[0]"
      ],
      "metadata": {
        "id": "8AQ6HJgWoE51"
      },
      "execution_count": null,
      "outputs": []
    },
    {
      "cell_type": "code",
      "source": [
        "sifted_key = []"
      ],
      "metadata": {
        "id": "hDtzSPrGoPeW"
      },
      "execution_count": null,
      "outputs": []
    },
    {
      "cell_type": "code",
      "source": [
        "for i in range(n):\n",
        "    if alice_bases[i] == bob_bases[i]:\n",
        "        sifted_key.append(int(bob_measurements[i]))"
      ],
      "metadata": {
        "id": "-3gg2SAeoVqk"
      },
      "execution_count": null,
      "outputs": []
    },
    {
      "cell_type": "code",
      "source": [
        "print(\"Sifted Key:\", sifted_key)"
      ],
      "metadata": {
        "colab": {
          "base_uri": "https://localhost:8080/"
        },
        "id": "2CdmkTyhoa48",
        "outputId": "3d0473c7-ee28-4308-8257-0f3fbd68034d"
      },
      "execution_count": null,
      "outputs": [
        {
          "output_type": "stream",
          "name": "stdout",
          "text": [
            "Sifted Key: [0, 1, 0, 0]\n"
          ]
        }
      ]
    },
    {
      "cell_type": "code",
      "source": [
        "assert len(sifted_key) <= n, \"Sifted key should be no longer than the initial bit sequence\""
      ],
      "metadata": {
        "id": "qlShCPxeo-o9"
      },
      "execution_count": null,
      "outputs": []
    },
    {
      "cell_type": "code",
      "source": [
        "for i in range(n):\n",
        "    if alice_bases[i] == bob_bases[i]:\n",
        "        assert int(bob_measurements[i]) == sifted_key.pop(0), \"Mismatch in sifted key bit from measurement\"\n",
        "\n",
        "print(\"All tests passed. Sifted key generation verified.\")"
      ],
      "metadata": {
        "colab": {
          "base_uri": "https://localhost:8080/"
        },
        "id": "SrQW4ycdpEf0",
        "outputId": "f0c89959-f829-4c15-f321-9054f527ba19"
      },
      "execution_count": null,
      "outputs": [
        {
          "output_type": "stream",
          "name": "stdout",
          "text": [
            "All tests passed. Sifted key generation verified.\n"
          ]
        }
      ]
    },
    {
      "cell_type": "code",
      "source": [
        "plot_histogram(result.get_counts(qc))"
      ],
      "metadata": {
        "colab": {
          "base_uri": "https://localhost:8080/",
          "height": 503
        },
        "id": "uNxQOJGkof5g",
        "outputId": "a741795e-d981-42d2-9c0d-fe2ab9e35474"
      },
      "execution_count": null,
      "outputs": [
        {
          "output_type": "execute_result",
          "data": {
            "text/plain": [
              "<Figure size 640x480 with 1 Axes>"
            ],
            "image/png": "[encoded data removed]"
          },
          "metadata": {},
          "execution_count": 17
        }
      ]
    }
  ]
}